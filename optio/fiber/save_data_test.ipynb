{
 "cells": [
  {
   "cell_type": "code",
   "execution_count": null,
   "id": "ccc21a23",
   "metadata": {},
   "outputs": [],
   "source": [
    "import pickle\n",
    "from datetime import datetime\n",
    "\n",
    "now = datetime.now()\n",
    "dt_string = now.strftime(\"%d%m%Y_%H:%M:%S\")\n",
    "filename = \"./data/\" + dt_string + \".pickle\"\n",
    "\n",
    "with open(filename, \"wb\") as f:\n",
    "    pickle.dump({\"test\": 1}, f, pickle.HIGHEST_PROTOCOL)"
   ]
  },
  {
   "cell_type": "code",
   "execution_count": null,
   "id": "4864c57e",
   "metadata": {},
   "outputs": [],
   "source": [
    "# Load data from rpeviously run scripts\n",
    "dbfile = open(\"data/04082021_16:02:32.pickle\", \"rb\")\n",
    "db = pickle.load(dbfile)\n",
    "dbfile.close()"
   ]
  },
  {
   "cell_type": "code",
   "execution_count": null,
   "id": "e5b92061",
   "metadata": {},
   "outputs": [],
   "source": [
    "db"
   ]
  },
  {
   "cell_type": "markdown",
   "id": "1ee07053",
   "metadata": {},
   "source": [
    "Get S-parameters from raw data"
   ]
  },
  {
   "cell_type": "code",
   "execution_count": null,
   "id": "5d9d3938",
   "metadata": {},
   "outputs": [],
   "source": [
    "res_fiber = db[\"res_fiber\"]\n",
    "res_waveguide = db[\"res_waveguide\"]"
   ]
  },
  {
   "cell_type": "code",
   "execution_count": null,
   "id": "e9bdaa98",
   "metadata": {},
   "outputs": [],
   "source": [
    "S11 = abs(res_fiber.alpha[0, 0, 1]) ** 2 / abs(res_fiber.alpha[0, 0, 0]) ** 2\n",
    "S11"
   ]
  },
  {
   "cell_type": "code",
   "execution_count": null,
   "id": "d4b2e3a2",
   "metadata": {},
   "outputs": [],
   "source": [
    "S12 = abs(res_waveguide.alpha[0, 0, 1]) ** 2 / abs(res_fiber.alpha[0, 0, 0]) ** 2\n",
    "S12"
   ]
  },
  {
   "cell_type": "code",
   "execution_count": null,
   "id": "81ecb636",
   "metadata": {},
   "outputs": [],
   "source": [
    "# Load data from rpeviously run scripts\n",
    "# With end condition at waveguide port (fiber source)\n",
    "dbfile = open(\"data/04082021_16:07:39.pickle\", \"rb\")\n",
    "db = pickle.load(dbfile)\n",
    "dbfile.close()"
   ]
  },
  {
   "cell_type": "code",
   "execution_count": null,
   "id": "62592040",
   "metadata": {},
   "outputs": [],
   "source": [
    "S11 = abs(res_fiber.alpha[0, 0, 1]) ** 2 / abs(res_fiber.alpha[0, 0, 0]) ** 2\n",
    "S11"
   ]
  }
 ],
 "metadata": {
  "kernelspec": {
   "display_name": "Python 3",
   "language": "python",
   "name": "python3"
  },
  "language_info": {
   "codemirror_mode": {
    "name": "ipython",
    "version": 3
   },
   "file_extension": ".py",
   "mimetype": "text/x-python",
   "name": "python",
   "nbconvert_exporter": "python",
   "pygments_lexer": "ipython3",
   "version": "3.6.8"
  }
 },
 "nbformat": 4,
 "nbformat_minor": 5
}

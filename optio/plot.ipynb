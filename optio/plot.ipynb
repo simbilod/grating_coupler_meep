{
 "cells": [
  {
   "cell_type": "code",
   "execution_count": null,
   "metadata": {},
   "outputs": [],
   "source": []
  }
 ],
 "metadata": {
  "interpreter": {
   "hash": "c3d35bc732e7b4bf381725414ca4fbaf71d7696ef8675520ba04067889aea33f"
  },
  "kernelspec": {
   "display_name": "Python 3.9.7 64-bit ('projectX': conda)",
   "language": "python",
   "name": "python3"
  },
  "language_info": {
   "name": "python",
   "version": "3.9.7"
  },
  "orig_nbformat": 4
 },
 "nbformat": 4,
 "nbformat_minor": 2
}

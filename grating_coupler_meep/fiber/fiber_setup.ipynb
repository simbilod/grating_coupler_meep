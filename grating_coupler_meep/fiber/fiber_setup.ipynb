{
 "cells": [
  {
   "cell_type": "markdown",
   "id": "7d0a6654",
   "metadata": {},
   "source": [
    "Changes : \n",
    "\n",
    "* The field monitor worked a little bit, when looking at specific small angles.\n",
    "* When looking wide for a good angle, results polluted by \"good\" candidates that trap light in the grating and reemit everywhere.\n",
    "* As such, try with fiber again. But this time only emit from waveguide.\n",
    "\n",
    "So go back to 2D_1\n",
    "So in compute, remove  the look over sources and hardcode 1 = waveguide."
   ]
  },
  {
   "cell_type": "code",
   "execution_count": null,
   "id": "94591c69",
   "metadata": {},
   "outputs": [],
   "source": [
    "from gc_outcoupler2 import initialize"
   ]
  },
  {
   "cell_type": "code",
   "execution_count": null,
   "id": "275f1227",
   "metadata": {},
   "outputs": [],
   "source": [
    "import argparse\n",
    "\n",
    "parser = argparse.ArgumentParser()\n",
    "parser.add_argument(\n",
    "    \"-period\",\n",
    "    type=float,\n",
    "    default=0.767723445279288,\n",
    "    help=\"grating period (default: 0.767723445279288 um)\",\n",
    ")\n",
    "parser.add_argument(\n",
    "    \"-FF\", type=float, default=0.5, help=\"Fill factor (default: 0.5 um)\"\n",
    ")\n",
    "parser.add_argument(\n",
    "    \"-theta\", type=float, default=8, help=\"fiber_angle (default: 8 degrees)\"\n",
    ")\n",
    "parser.add_argument(\"-x\", type=float, default=1, help=\"Fiber position (default: 1 um)\")\n",
    "parser.add_argument(\"-source\", type=int, default=0, help=\"1 for waveguide, 0 for fiber\")\n",
    "parser.add_argument(\"-filename\", type=str, default=\"default\", help=\"data name\")\n",
    "args = parser.parse_args()\n",
    "sim, fiber_monitor, waveguide_monitor = initialize(args)"
   ]
  },
  {
   "cell_type": "code",
   "execution_count": null,
   "id": "bc814140",
   "metadata": {},
   "outputs": [],
   "source": [
    "import matplotlib.pyplot as plt\n",
    "\n",
    "f = plt.figure(dpi=100)\n",
    "sim.plot2D(ax=f.gca())\n",
    "plt.show()"
   ]
  },
  {
   "cell_type": "code",
   "execution_count": null,
   "id": "b37f8cbc",
   "metadata": {},
   "outputs": [],
   "source": [
    "import meep as mp\n",
    "\n",
    "f = plt.figure(dpi=100)\n",
    "animate = mp.Animate2D(sim, mp.Ez, f=f, normalize=True)\n",
    "sim.run(mp.at_every(1, animate), until=100)\n",
    "plt.close()"
   ]
  },
  {
   "cell_type": "code",
   "execution_count": null,
   "id": "1f56c01b",
   "metadata": {},
   "outputs": [],
   "source": [
    "animate.to_jshtml(10)"
   ]
  },
  {
   "cell_type": "code",
   "execution_count": null,
   "id": "5b563240",
   "metadata": {},
   "outputs": [],
   "source": [
    "res_waveguide = sim.get_eigenmode_coefficients(\n",
    "    waveguide_monitor, [1], eig_parity=mp.ODD_Z, direction=mp.X\n",
    ")\n",
    "kpoint = mp.Vector3(y=-1).rotate(mp.Vector3(z=1), -1 * 8)\n",
    "res_fiber = sim.get_eigenmode_coefficients(\n",
    "    fiber_monitor,\n",
    "    [1],\n",
    "    direction=mp.NO_DIRECTION,\n",
    "    eig_parity=mp.ODD_Z,\n",
    "    kpoint_func=lambda f, n: kpoint,\n",
    ")"
   ]
  },
  {
   "cell_type": "code",
   "execution_count": null,
   "id": "d2b6c5b1",
   "metadata": {},
   "outputs": [],
   "source": [
    "res_waveguide.alpha"
   ]
  },
  {
   "cell_type": "code",
   "execution_count": null,
   "id": "43a30af0",
   "metadata": {},
   "outputs": [],
   "source": [
    "res_fiber.alpha"
   ]
  },
  {
   "cell_type": "code",
   "execution_count": null,
   "id": "88b9da89",
   "metadata": {},
   "outputs": [],
   "source": [
    "import numpy as np\n",
    "\n",
    "np.abs(res_fiber.alpha[0, 0, 1]) ** 2 / np.abs(res_waveguide.alpha[0, 0, 0]) ** 2"
   ]
  },
  {
   "cell_type": "code",
   "execution_count": null,
   "id": "8dcbfce6",
   "metadata": {},
   "outputs": [],
   "source": [
    "!mpirun -np 8 python gc_outcoupler2.py -period 0.767723445279288 -FF 0.5 -theta 8 -x 1 -source 1 -filename 'test' > ./logs/test.log"
   ]
  },
  {
   "cell_type": "code",
   "execution_count": null,
   "id": "639e32c6",
   "metadata": {},
   "outputs": [],
   "source": [
    "from os import listdir\n",
    "from os.path import isfile, join\n",
    "\n",
    "onlyfiles = [f for f in listdir(\"./data\") if isfile(join(\"./data\", f))]"
   ]
  },
  {
   "cell_type": "code",
   "execution_count": null,
   "id": "76c92c78",
   "metadata": {},
   "outputs": [],
   "source": [
    "onlyfiles[0]"
   ]
  },
  {
   "cell_type": "code",
   "execution_count": null,
   "id": "5e357679",
   "metadata": {},
   "outputs": [],
   "source": [
    "import pickle\n",
    "\n",
    "dbfile = open(\"./data/\" + onlyfiles[0], \"rb\")\n",
    "db = pickle.load(dbfile)\n",
    "dbfile.close()"
   ]
  },
  {
   "cell_type": "code",
   "execution_count": null,
   "id": "0dd1753a",
   "metadata": {},
   "outputs": [],
   "source": [
    "db"
   ]
  },
  {
   "cell_type": "code",
   "execution_count": null,
   "id": "5e6fdccd",
   "metadata": {},
   "outputs": [],
   "source": [
    "import numpy as np\n",
    "\n",
    "db[\"res_fiber\"].alpha"
   ]
  },
  {
   "cell_type": "code",
   "execution_count": null,
   "id": "d256e07a",
   "metadata": {},
   "outputs": [],
   "source": [
    "np.abs(db[\"res_fiber\"].alpha[0, 0, 1]) ** 2 / np.abs(\n",
    "    db[\"res_waveguide\"].alpha[0, 0, 0]\n",
    ") ** 2"
   ]
  },
  {
   "cell_type": "code",
   "execution_count": null,
   "id": "2070b8d2",
   "metadata": {},
   "outputs": [],
   "source": []
  },
  {
   "cell_type": "code",
   "execution_count": null,
   "id": "20ebb713",
   "metadata": {},
   "outputs": [],
   "source": []
  },
  {
   "cell_type": "code",
   "execution_count": null,
   "id": "e00d9749",
   "metadata": {},
   "outputs": [],
   "source": []
  }
 ],
 "metadata": {
  "kernelspec": {
   "display_name": "Python 3",
   "language": "python",
   "name": "python3"
  },
  "language_info": {
   "codemirror_mode": {
    "name": "ipython",
    "version": 3
   },
   "file_extension": ".py",
   "mimetype": "text/x-python",
   "name": "python",
   "nbconvert_exporter": "python",
   "pygments_lexer": "ipython3",
   "version": "3.6.8"
  }
 },
 "nbformat": 4,
 "nbformat_minor": 5
}

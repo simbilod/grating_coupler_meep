{
 "cells": [
  {
   "cell_type": "markdown",
   "id": "bcd46559-196a-41e4-90ce-96fbbdea469a",
   "metadata": {},
   "source": [
    "Changes : \n",
    "\n",
    "* From (1) S12's don't match. Unclear what the issue is. The highest transmission is when there seems to be strong higher order in the waveguide -- issue with eigenmode decomposition? \n",
    "* For simplicity, since we know S12 = S21 should hold for LTI system, we'll just source from the waveguide. Also, just look at diretionality for now and compare with fiber mode later.\n",
    "\n",
    "So in compute, remove  the look over sources and hardcode 1 = waveguide.\n",
    "In the script, remove all references to fiber, and add the near-2-far monitor. Remove eigemode measurements."
   ]
  },
  {
   "cell_type": "code",
   "execution_count": null,
   "id": "5fa6fb82-1bf3-4159-a085-6beb5cdc8f6f",
   "metadata": {},
   "outputs": [],
   "source": [
    "from gc_outcoupler2 import initialize"
   ]
  },
  {
   "cell_type": "code",
   "execution_count": null,
   "id": "1b147433-b2e2-4817-b903-b453f8a325f5",
   "metadata": {},
   "outputs": [],
   "source": [
    "import argparse\n",
    "\n",
    "parser = argparse.ArgumentParser()\n",
    "parser.add_argument(\n",
    "    \"-period\",\n",
    "    type=float,\n",
    "    default=0.767723445279288,\n",
    "    help=\"grating period (default: 0.767723445279288 um)\",\n",
    ")\n",
    "parser.add_argument(\n",
    "    \"-FF\", type=float, default=0.5, help=\"Fill factor (default: 0.5 um)\"\n",
    ")\n",
    "parser.add_argument(\n",
    "    \"-theta\", type=float, default=8, help=\"fiber_angle (default: 8 degrees)\"\n",
    ")\n",
    "parser.add_argument(\"-x\", type=float, default=1, help=\"Fiber position (default: 1 um)\")\n",
    "parser.add_argument(\"-source\", type=int, default=0, help=\"1 for waveguide, 0 for fiber\")\n",
    "parser.add_argument(\"-filename\", type=str, default=\"default\", help=\"data name\")\n",
    "args = parser.parse_args()\n",
    "sim, neafielf, monitor = initialize(args)"
   ]
  },
  {
   "cell_type": "code",
   "execution_count": null,
   "id": "24ca468d-00de-4467-8c35-9a61fcba30e1",
   "metadata": {},
   "outputs": [],
   "source": [
    "import matplotlib.pyplot as plt\n",
    "\n",
    "f = plt.figure(dpi=100)\n",
    "sim.plot2D(ax=f.gca())\n",
    "plt.show()"
   ]
  },
  {
   "cell_type": "code",
   "execution_count": null,
   "id": "1b3b5a1d-f517-4ab7-b217-a3d6f4349faf",
   "metadata": {},
   "outputs": [],
   "source": [
    "!mpirun -np 8 python gc_outcoupler2.py -period 0.5 -FF 0.5 -theta 8 -x 1 -source 1 -filename 'test' > ./logs/test.log"
   ]
  },
  {
   "cell_type": "code",
   "execution_count": null,
   "id": "fe624c10-02c6-4b50-8fdb-e2ab72bc80d0",
   "metadata": {},
   "outputs": [],
   "source": [
    "from os import listdir\n",
    "from os.path import isfile, join\n",
    "\n",
    "onlyfiles = [f for f in listdir(\"./data\") if isfile(join(\"./data\", f))]"
   ]
  },
  {
   "cell_type": "code",
   "execution_count": null,
   "id": "7611fd76-d054-4b0b-a92c-8507718c1aec",
   "metadata": {},
   "outputs": [],
   "source": [
    "onlyfiles[0]"
   ]
  },
  {
   "cell_type": "code",
   "execution_count": null,
   "id": "427a10ed-2529-4907-a516-a55ec678004f",
   "metadata": {},
   "outputs": [],
   "source": [
    "import pickle\n",
    "\n",
    "dbfile = open(\"./data/\" + onlyfiles[0], \"rb\")\n",
    "db = pickle.load(dbfile)\n",
    "dbfile.close()"
   ]
  },
  {
   "cell_type": "code",
   "execution_count": null,
   "id": "d3a49ab8-53fa-43c0-82cd-eb0a29e69d23",
   "metadata": {},
   "outputs": [],
   "source": [
    "db"
   ]
  },
  {
   "cell_type": "code",
   "execution_count": null,
   "id": "9b3779c2-04d4-4a85-a13c-5b0ed64d30ea",
   "metadata": {},
   "outputs": [],
   "source": [
    "import numpy as np\n",
    "\n",
    "farfield_power = db[\"farfield_power\"]\n",
    "farfield_angles = db[\"farfield_angles\"]\n",
    "\n",
    "Ex = farfield_power[:, 0]\n",
    "Ey = farfield_power[:, 1]\n",
    "Ez = farfield_power[:, 2]\n",
    "Hx = farfield_power[:, 3]\n",
    "Hy = farfield_power[:, 4]\n",
    "Hz = farfield_power[:, 5]\n",
    "Ex = np.conj(Ex)\n",
    "Ey = np.conj(Ey)\n",
    "Ez = np.conj(Ez)\n",
    "Px = np.real(np.multiply(Ey, Hz) - np.multiply(Ez, Hy))\n",
    "Py = np.real(np.multiply(Ez, Hx) - np.multiply(Ex, Hz))\n",
    "Pz = np.real(np.multiply(Ex, Hy) - np.multiply(Ey, Hx))\n",
    "Pr = np.sqrt(np.square(Px) + np.square(Py))\n",
    "Pnorm = Pr / np.max(Pr)"
   ]
  },
  {
   "cell_type": "code",
   "execution_count": null,
   "id": "faa50eac-1bfa-465e-80d0-9e02730f6c1f",
   "metadata": {},
   "outputs": [],
   "source": [
    "fig, ax = plt.subplots(subplot_kw={\"projection\": \"polar\"})\n",
    "ax.plot(farfield_angles, Pnorm)\n",
    "ax.set_rmax(1)\n",
    "ax.set_rticks([0.25, 0.5, 0.75, 1])  # Less radial ticks\n",
    "ax.set_rlabel_position(-22.5)  # Move radial labels away from plotted line\n",
    "ax.grid(True)\n",
    "\n",
    "# ax.set_title(\"A line plot on a polar axis\", va='bottom')\n",
    "plt.show()"
   ]
  },
  {
   "cell_type": "code",
   "execution_count": null,
   "id": "be742450-0e55-42d5-9643-6d2079f5a947",
   "metadata": {},
   "outputs": [],
   "source": [
    "1 / 64"
   ]
  },
  {
   "cell_type": "code",
   "execution_count": null,
   "id": "da903763-e294-4eef-9909-bd07bc454d76",
   "metadata": {},
   "outputs": [],
   "source": [
    "import numpy as np\n",
    "\n",
    "np.linspace(0.1, 0.9, 9)"
   ]
  },
  {
   "cell_type": "markdown",
   "id": "57cd6910-c9f1-4772-b65f-90c3d5f5799e",
   "metadata": {},
   "source": [
    "Maybe we should monitor the outgoing power too. Let's add a mode monitor again. (reload). Also gives reflection."
   ]
  }
 ],
 "metadata": {
  "kernelspec": {
   "display_name": "Python 3",
   "language": "python",
   "name": "python3"
  },
  "language_info": {
   "codemirror_mode": {
    "name": "ipython",
    "version": 3
   },
   "file_extension": ".py",
   "mimetype": "text/x-python",
   "name": "python",
   "nbconvert_exporter": "python",
   "pygments_lexer": "ipython3",
   "version": "3.9.6"
  }
 },
 "nbformat": 4,
 "nbformat_minor": 5
}

{
 "cells": [
  {
   "cell_type": "code",
   "execution_count": 1,
   "metadata": {},
   "outputs": [
    {
     "name": "stdout",
     "output_type": "stream",
     "text": [
      "Using MPI version 3.1, 1 processes\n"
     ]
    }
   ],
   "source": [
    "import meep as mp\n",
    "import numpy as np\n",
    "from meep import mpb\n",
    "import matplotlib.pyplot as plt"
   ]
  },
  {
   "cell_type": "markdown",
   "metadata": {},
   "source": [
    "Recall conditions to obtain guided modes for a structure\n",
    "\n",
    "        \n",
    "    ncore:         --------\n",
    "\n",
    "    nclad: --------        ----------\n",
    "                   <------>\n",
    "                      d\n",
    "\n",
    "Transcendental equation for symmetrical mode\n",
    "\n",
    "$$ u \\tan{u} = \\sqrt{\\left( \\frac{V}{2} \\right)^2 - u^2} $$\n",
    "\n",
    "Transcendental equation for antisymmetrical mode\n",
    "\n",
    "$$ -u \\cot{u} = \\sqrt{\\left( \\frac{V}{2} \\right)^2 - u^2} $$\n",
    "\n",
    "with\n",
    "\n",
    "$$ u = \\frac{\\left( k_0^2 n_{core}^2 - \\beta^2 \\right)d}{2} $$\n",
    "\n",
    "$$ v = \\frac{\\left(\\beta^2 - k_0^2n_{clad}^2 \\right)d}{2} $$\n",
    "\n",
    "$$ V = k_0d\\sqrt{n_{core}^2 - n_{clad}^2} $$\n",
    "\n",
    "$$ k_0^2 = \\epsilon_0\\mu_0\\omega^2 = \\frac{\\omega^2}{c^2} \\rightarrow \\omega^2 \\text{ in MPB units}$$\n",
    "\n",
    "Solve for $\\beta(\\omega)$"
   ]
  },
  {
   "cell_type": "code",
   "execution_count": 2,
   "metadata": {},
   "outputs": [],
   "source": [
    "def LHS_symm(u):\n",
    "    return u*np.tan(u)\n",
    "\n",
    "def RHS(u, V):\n",
    "    return np.sqrt((V/2)**2 - u**2)\n",
    "\n",
    "def u(w, ncore, b, d):\n",
    "    return (w**2*ncore**2 - b**2)*d/2\n",
    "\n",
    "def v(w, nclad, b, d):\n",
    "    return (b**2 - w**2*nclad**2)*d/2\n",
    "\n",
    "def V(w, d, ncore, nclad):\n",
    "    return w*d*np.sqrt(ncore**2 - nclad**2)"
   ]
  },
  {
   "cell_type": "code",
   "execution_count": 3,
   "metadata": {},
   "outputs": [
    {
     "data": {
      "text/plain": [
       "0.9393548387096788"
      ]
     },
     "execution_count": 3,
     "metadata": {},
     "output_type": "execute_result"
    }
   ],
   "source": [
    "w = 1/1.55\n",
    "nclad = 1.44\n",
    "ncore = 1.446789549312546\n",
    "d = 10.4\n",
    "\n",
    "V_comp = V(w, d, ncore, nclad)\n",
    "V_comp"
   ]
  },
  {
   "cell_type": "code",
   "execution_count": 4,
   "metadata": {},
   "outputs": [
    {
     "name": "stderr",
     "output_type": "stream",
     "text": [
      "/home/simbil/miniconda3/envs/pmp_mayavi/lib/python3.7/site-packages/ipykernel_launcher.py:5: RuntimeWarning: invalid value encountered in sqrt\n",
      "  \"\"\"\n",
      "/home/simbil/miniconda3/envs/pmp_mayavi/lib/python3.7/site-packages/ipykernel_launcher.py:5: RuntimeWarning: invalid value encountered in sqrt\n",
      "  \"\"\"\n"
     ]
    },
    {
     "data": {
      "text/plain": [
       "[<matplotlib.lines.Line2D at 0x7f1fb8943c50>]"
      ]
     },
     "execution_count": 4,
     "metadata": {},
     "output_type": "execute_result"
    },
    {
     "data": {
      "image/png": "[encoded data removed]",
      "text/plain": [
       "<Figure size 432x288 with 1 Axes>"
      ]
     },
     "metadata": {
      "needs_background": "light"
     },
     "output_type": "display_data"
    }
   ],
   "source": [
    "u = np.linspace(0,0.6,100)\n",
    "plt.plot(u, LHS_symm(u))\n",
    "plt.plot(u, RHS(u, V_comp))\n",
    "idx = np.argwhere(np.diff(np.sign(LHS_symm(u) - RHS(u, V_comp)))).flatten()[0]\n",
    "plt.plot(u[idx], LHS_symm(u[idx]), 'ro')"
   ]
  },
  {
   "cell_type": "markdown",
   "metadata": {},
   "source": [
    "Use $u$ to solve for $\\beta$ by inverting\n",
    "\n",
    "$$ \\beta = \\sqrt{k_0^2n_{core}^2 - \\frac{2u}{d}} $$"
   ]
  },
  {
   "cell_type": "code",
   "execution_count": 48,
   "metadata": {},
   "outputs": [
    {
     "data": {
      "text/plain": [
       "0.8886360467107857"
      ]
     },
     "execution_count": 48,
     "metadata": {},
     "output_type": "execute_result"
    }
   ],
   "source": [
    "def b(w, ncore, u, d):\n",
    "    return np.sqrt(w**2*ncore**2 - 2*u/d)\n",
    "\n",
    "b(w, ncore, u[idx], d)"
   ]
  },
  {
   "cell_type": "markdown",
   "metadata": {},
   "source": [
    "And so $\\beta \\approx 0.9$ can be the trial wavevector"
   ]
  },
  {
   "cell_type": "code",
   "execution_count": 5,
   "metadata": {},
   "outputs": [],
   "source": [
    "# Parameters for the waveguide\n",
    "\n",
    "# Indices\n",
    "clad_index = 1.44\n",
    "core_index = 1.446789549312546\n",
    "\n",
    "# Materials\n",
    "clad = mp.Medium(index=clad_index)\n",
    "core = mp.Medium(index=core_index)\n",
    "\n",
    "sc = 60  # supercell width (um)\n",
    "resolution = 100  # pixels/um\n",
    "geometry_lattice = mp.Lattice(size=mp.Vector3(sc))\n",
    "\n",
    "# define the 2d blocks for the strip and substrate\n",
    "geometry = [mp.Block(size=mp.Vector3(d),\n",
    "                     center=mp.Vector3(0), material=core)]"
   ]
  },
  {
   "cell_type": "code",
   "execution_count": 6,
   "metadata": {},
   "outputs": [],
   "source": [
    "# The k (i.e. beta, i.e. propagation constant) points to look at, in\n",
    "# units of 2*pi/um.  We'll look at num_k points from k_min to k_max.\n",
    "num_k = 30\n",
    "k_min = 0.7\n",
    "k_max = 1\n",
    "k_points = mp.interpolate(num_k, [mp.Vector3(k_min), mp.Vector3(k_max)])\n",
    "\n",
    "# Increase this to see more modes.  (The guided ones are the ones below the\n",
    "# light line, i.e. those with frequencies < kmag / 1.45, where kmag\n",
    "# is the corresponding column in the output if you grep for \"freqs:\".)\n",
    "num_bands = 4"
   ]
  },
  {
   "cell_type": "code",
   "execution_count": 7,
   "metadata": {},
   "outputs": [
    {
     "name": "stdout",
     "output_type": "stream",
     "text": [
      "Working in 1 dimensions.\n",
      "Grid size is 6000 x 1 x 1.\n",
      "Solving for 4 bands at a time.\n",
      "Creating Maxwell data...\n",
      "Mesh size is 3.\n",
      "Lattice vectors:\n",
      "     (60, 0, 0)\n",
      "     (0, 1, 0)\n",
      "     (0, 0, 1)\n",
      "Cell volume = 60\n",
      "Reciprocal lattice vectors (/ 2 pi):\n",
      "     (0.0166667, -0, 0)\n",
      "     (-0, 1, -0)\n",
      "     (0, -0, 1)\n",
      "Geometric objects:\n",
      "     block, center = (0,0,0)\n",
      "          size (10.4,0,0)\n",
      "          axes (1,0,0), (0,1,0), (0,0,1)\n",
      "Geometric object tree has depth 1 and 1 object nodes (vs. 1 actual objects)\n",
      "Initializing epsilon function...\n",
      "Allocating fields...\n",
      "Solving for band polarization: .\n",
      "Initializing fields to random numbers...\n"
     ]
    }
   ],
   "source": [
    "# ModeSolver object\n",
    "ms = mpb.ModeSolver(\n",
    "    geometry_lattice=geometry_lattice,\n",
    "    geometry=geometry,\n",
    "    # Add new things pertaining to simulation\n",
    "    k_points=k_points,\n",
    "    resolution=resolution,\n",
    "    num_bands=num_bands,\n",
    "    dimensions=1,\n",
    "    default_material=clad\n",
    "    )\n",
    "\n",
    "ms.init_params(mp.NO_PARITY, reset_fields=True)"
   ]
  },
  {
   "cell_type": "code",
   "execution_count": 8,
   "metadata": {},
   "outputs": [
    {
     "name": "stdout",
     "output_type": "stream",
     "text": [
      "epsilon: 2.0736-2.0932, mean 2.077, harm. mean 2.07697, 100% > 1, 17.3333% \"fill\"\n"
     ]
    }
   ],
   "source": [
    "eps = ms.get_epsilon()"
   ]
  },
  {
   "cell_type": "code",
   "execution_count": 9,
   "metadata": {},
   "outputs": [
    {
     "data": {
      "text/plain": [
       "[<matplotlib.lines.Line2D at 0x7f1fb05031d0>]"
      ]
     },
     "execution_count": 9,
     "metadata": {},
     "output_type": "execute_result"
    },
    {
     "data": {
      "image/png": "[encoded data removed]",
      "text/plain": [
       "<Figure size 432x288 with 1 Axes>"
      ]
     },
     "metadata": {
      "needs_background": "light"
     },
     "output_type": "display_data"
    }
   ],
   "source": [
    "xmin = -sc/2\n",
    "xmax = sc/2\n",
    "x = np.linspace(xmin, xmax, resolution*sc)\n",
    "\n",
    "plt.plot(x, eps)"
   ]
  },
  {
   "cell_type": "code",
   "execution_count": 10,
   "metadata": {},
   "outputs": [],
   "source": [
    "%%capture --no-stderr output\n",
    "ms.run()"
   ]
  },
  {
   "cell_type": "code",
   "execution_count": 11,
   "metadata": {},
   "outputs": [
    {
     "data": {
      "text/plain": [
       "['Initializing eigensolver data',\n",
       " 'Computing 4 bands with 1e-07 tolerance',\n",
       " 'Working in 1 dimensions.',\n",
       " 'Grid size is 6000 x 1 x 1.',\n",
       " 'Solving for 4 bands at a time.',\n",
       " 'Creating Maxwell data...',\n",
       " 'Mesh size is 3.',\n",
       " 'Lattice vectors:',\n",
       " '     (60, 0, 0)',\n",
       " '     (0, 1, 0)',\n",
       " '     (0, 0, 1)',\n",
       " 'Cell volume = 60',\n",
       " 'Reciprocal lattice vectors (/ 2 pi):',\n",
       " '     (0.0166667, -0, 0)',\n",
       " '     (-0, 1, -0)',\n",
       " '     (0, -0, 1)',\n",
       " 'Geometric objects:',\n",
       " '     block, center = (0,0,0)',\n",
       " '          size (10.4,0,0)',\n",
       " '          axes (1,0,0), (0,1,0), (0,0,1)',\n",
       " 'Geometric object tree has depth 1 and 1 object nodes (vs. 1 actual objects)',\n",
       " 'Initializing epsilon function...',\n",
       " 'Solving for band polarization: .',\n",
       " 'Initializing fields to random numbers...',\n",
       " '32 k-points',\n",
       " '  Vector3<0.7, 0.0, 0.0>',\n",
       " '  Vector3<0.7096774193548386, 0.0, 0.0>',\n",
       " '  Vector3<0.7193548387096774, 0.0, 0.0>',\n",
       " '  Vector3<0.7290322580645161, 0.0, 0.0>',\n",
       " '  Vector3<0.7387096774193548, 0.0, 0.0>',\n",
       " '  Vector3<0.7483870967741935, 0.0, 0.0>',\n",
       " '  Vector3<0.7580645161290323, 0.0, 0.0>',\n",
       " '  Vector3<0.7677419354838709, 0.0, 0.0>',\n",
       " '  Vector3<0.7774193548387096, 0.0, 0.0>',\n",
       " '  Vector3<0.7870967741935484, 0.0, 0.0>',\n",
       " '  Vector3<0.7967741935483871, 0.0, 0.0>',\n",
       " '  Vector3<0.8064516129032258, 0.0, 0.0>',\n",
       " '  Vector3<0.8161290322580645, 0.0, 0.0>',\n",
       " '  Vector3<0.8258064516129032, 0.0, 0.0>',\n",
       " '  Vector3<0.8354838709677419, 0.0, 0.0>',\n",
       " '  Vector3<0.8451612903225807, 0.0, 0.0>',\n",
       " '  Vector3<0.8548387096774194, 0.0, 0.0>',\n",
       " '  Vector3<0.864516129032258, 0.0, 0.0>',\n",
       " '  Vector3<0.8741935483870967, 0.0, 0.0>',\n",
       " '  Vector3<0.8838709677419355, 0.0, 0.0>',\n",
       " '  Vector3<0.8935483870967742, 0.0, 0.0>',\n",
       " '  Vector3<0.9032258064516129, 0.0, 0.0>',\n",
       " '  Vector3<0.9129032258064516, 0.0, 0.0>',\n",
       " '  Vector3<0.9225806451612903, 0.0, 0.0>',\n",
       " '  Vector3<0.932258064516129, 0.0, 0.0>',\n",
       " '  Vector3<0.9419354838709677, 0.0, 0.0>',\n",
       " '  Vector3<0.9516129032258065, 0.0, 0.0>',\n",
       " '  Vector3<0.9612903225806452, 0.0, 0.0>',\n",
       " '  Vector3<0.9709677419354839, 0.0, 0.0>',\n",
       " '  Vector3<0.9806451612903226, 0.0, 0.0>',\n",
       " '  Vector3<0.9903225806451613, 0.0, 0.0>',\n",
       " '  Vector3<1.0, 0.0, 0.0>',\n",
       " 'elapsed time for initialization: 0.00549626350402832',\n",
       " 'solve_kpoint (0.7,0,0):',\n",
       " 'freqs:, k index, k1, k2, k3, kmag/2pi, band 1, band 2, band 3, band 4',\n",
       " 'Solving for bands 1 to 4...',\n",
       " '    near maximum in trace',\n",
       " '    linmin: converged after 10 iterations.',\n",
       " '    iteration    1: trace = 0.0005275399684549613 (200% change)',\n",
       " '    linmin: converged after 6 iterations.',\n",
       " '    iteration    2: trace = 0.0001743574501079133 (100.637% change)',\n",
       " '    linmin: converged after 6 iterations.',\n",
       " '    iteration    3: trace = 0.0001554174322584679 (11.4866% change)',\n",
       " '    linmin: converged after 4 iterations.',\n",
       " '    iteration    4: trace = 0.0001551420731009893 (0.177331% change)',\n",
       " '    linmin: converged after 2 iterations.',\n",
       " '    iteration    5: trace = 0.0001551386661100469 (0.00219607% change)',\n",
       " '    linmin: converged after 2 iterations.',\n",
       " '    iteration    6: trace = 0.0001551386580099682 (5.22119e-06% change)',\n",
       " 'Finished solving for bands 1 to 4 after 6 iterations.',\n",
       " 'freqs:, 1, 0.7, 0, 0, 0.0116667, 0.00346938, 0.00346938, 0.00809523, 0.00809523',\n",
       " 'elapsed time for k point: 0.19360089302062988',\n",
       " 'solve_kpoint (0.709677,0,0):',\n",
       " 'Solving for bands 1 to 4...',\n",
       " '    linmin: converged after 1 iterations.',\n",
       " '    iteration    1: trace = 0.000157259564106544 (8.09112e-07% change)',\n",
       " 'Finished solving for bands 1 to 4 after 1 iterations.',\n",
       " 'freqs:, 2, 0.709677, 0, 0, 0.011828, 0.00335746, 0.00335746, 0.00820714, 0.00820714',\n",
       " 'elapsed time for k point: 0.03929948806762695',\n",
       " 'solve_kpoint (0.719355,0,0):',\n",
       " 'Solving for bands 1 to 4...',\n",
       " '    linmin: converged after 1 iterations.',\n",
       " '    iteration    1: trace = 0.0001594806700991638 (6.86299e-07% change)',\n",
       " 'Finished solving for bands 1 to 4 after 1 iterations.',\n",
       " 'freqs:, 3, 0.719355, 0, 0, 0.0119892, 0.00324555, 0.00324555, 0.00831906, 0.00831906',\n",
       " 'elapsed time for k point: 0.024245023727416992',\n",
       " 'solve_kpoint (0.729032,0,0):',\n",
       " 'Solving for bands 1 to 4...',\n",
       " '    linmin: converged after 1 iterations.',\n",
       " '    iteration    1: trace = 0.0001618019758143963 (6.85462e-07% change)',\n",
       " 'Finished solving for bands 1 to 4 after 1 iterations.',\n",
       " 'freqs:, 4, 0.729032, 0, 0, 0.0121505, 0.00313363, 0.00313363, 0.00843097, 0.00843097',\n",
       " 'elapsed time for k point: 0.024300336837768555',\n",
       " 'solve_kpoint (0.73871,0,0):',\n",
       " 'Solving for bands 1 to 4...',\n",
       " '    linmin: converged after 1 iterations.',\n",
       " '    iteration    1: trace = 0.0001642234811330433 (7.15134e-07% change)',\n",
       " 'Finished solving for bands 1 to 4 after 1 iterations.',\n",
       " 'freqs:, 5, 0.73871, 0, 0, 0.0123118, 0.00302172, 0.00302172, 0.00854289, 0.00854289',\n",
       " 'elapsed time for k point: 0.0277712345123291',\n",
       " 'solve_kpoint (0.748387,0,0):',\n",
       " 'Solving for bands 1 to 4...',\n",
       " '    linmin: converged after 1 iterations.',\n",
       " '    iteration    1: trace = 0.0001667451859240025 (7.4808e-07% change)',\n",
       " 'Finished solving for bands 1 to 4 after 1 iterations.',\n",
       " 'freqs:, 6, 0.748387, 0, 0, 0.0124731, 0.0029098, 0.0029098, 0.0086548, 0.0086548',\n",
       " 'elapsed time for k point: 0.02426886558532715',\n",
       " 'solve_kpoint (0.758065,0,0):',\n",
       " 'Solving for bands 1 to 4...',\n",
       " '    linmin: converged after 1 iterations.',\n",
       " '    iteration    1: trace = 0.0001693670900361158 (7.85889e-07% change)',\n",
       " 'Finished solving for bands 1 to 4 after 1 iterations.',\n",
       " 'freqs:, 7, 0.758065, 0, 0, 0.0126344, 0.00279789, 0.00279789, 0.00876672, 0.00876672',\n",
       " 'elapsed time for k point: 0.024167776107788086',\n",
       " 'solve_kpoint (0.767742,0,0):',\n",
       " 'Solving for bands 1 to 4...',\n",
       " '    linmin: converged after 1 iterations.',\n",
       " '    iteration    1: trace = 0.000172089193292954 (8.30143e-07% change)',\n",
       " 'Finished solving for bands 1 to 4 after 1 iterations.',\n",
       " 'freqs:, 8, 0.767742, 0, 0, 0.0127957, 0.00268597, 0.00268597, 0.00887863, 0.00887863',\n",
       " 'elapsed time for k point: 0.024341821670532227',\n",
       " 'solve_kpoint (0.777419,0,0):',\n",
       " 'Solving for bands 1 to 4...',\n",
       " '    linmin: converged after 1 iterations.',\n",
       " '    iteration    1: trace = 0.0001749114954873955 (8.82162e-07% change)',\n",
       " 'Finished solving for bands 1 to 4 after 1 iterations.',\n",
       " 'freqs:, 9, 0.777419, 0, 0, 0.012957, 0.00257406, 0.00257406, 0.00899055, 0.00899055',\n",
       " 'elapsed time for k point: 0.024086475372314453',\n",
       " 'solve_kpoint (0.787097,0,0):',\n",
       " 'Solving for bands 1 to 4...',\n",
       " '    linmin: converged after 1 iterations.',\n",
       " '    iteration    1: trace = 0.0001778339963747838 (9.43591e-07% change)',\n",
       " 'Finished solving for bands 1 to 4 after 1 iterations.',\n",
       " 'freqs:, 10, 0.787097, 0, 0, 0.0131183, 0.00246214, 0.00246214, 0.00910246, 0.00910246',\n",
       " 'elapsed time for k point: 0.024128437042236328',\n",
       " 'solve_kpoint (0.796774,0,0):',\n",
       " 'Solving for bands 1 to 4...',\n",
       " '    linmin: converged after 1 iterations.',\n",
       " '    iteration    1: trace = 0.0001808566956640624 (1.01657e-06% change)',\n",
       " 'Finished solving for bands 1 to 4 after 1 iterations.',\n",
       " 'freqs:, 11, 0.796774, 0, 0, 0.0132796, 0.00235023, 0.00235023, 0.00921438, 0.00921438',\n",
       " 'elapsed time for k point: 0.024333715438842773',\n",
       " 'solve_kpoint (0.806452,0,0):',\n",
       " 'Solving for bands 1 to 4...',\n",
       " '    linmin: converged after 1 iterations.',\n",
       " '    iteration    1: trace = 0.0001839795930062625 (1.10387e-06% change)',\n",
       " 'Finished solving for bands 1 to 4 after 1 iterations.',\n",
       " 'freqs:, 12, 0.806452, 0, 0, 0.0134409, 0.00223831, 0.00223831, 0.00932629, 0.00932629',\n",
       " 'elapsed time for k point: 0.023981571197509766',\n",
       " 'solve_kpoint (0.816129,0,0):',\n",
       " 'Solving for bands 1 to 4...',\n",
       " '    linmin: converged after 1 iterations.',\n",
       " '    iteration    1: trace = 0.0001872026879793587 (1.20911e-06% change)',\n",
       " 'Finished solving for bands 1 to 4 after 1 iterations.',\n",
       " 'freqs:, 13, 0.816129, 0, 0, 0.0136022, 0.00212639, 0.00212639, 0.00943821, 0.00943821',\n",
       " 'elapsed time for k point: 0.02618885040283203',\n",
       " 'solve_kpoint (0.825806,0,0):',\n",
       " 'Solving for bands 1 to 4...',\n",
       " '    linmin: converged after 1 iterations.',\n",
       " '    iteration    1: trace = 0.0001905259800680782 (1.33708e-06% change)',\n",
       " 'Finished solving for bands 1 to 4 after 1 iterations.',\n",
       " 'freqs:, 14, 0.825806, 0, 0, 0.0137634, 0.00201448, 0.00201448, 0.00955012, 0.00955012',\n",
       " 'elapsed time for k point: 0.02408576011657715',\n",
       " 'solve_kpoint (0.835484,0,0):',\n",
       " 'Solving for bands 1 to 4...',\n",
       " '    linmin: converged after 1 iterations.',\n",
       " '    iteration    1: trace = 0.0001939494686365915 (1.49427e-06% change)',\n",
       " 'Finished solving for bands 1 to 4 after 1 iterations.',\n",
       " 'freqs:, 15, 0.835484, 0, 0, 0.0139247, 0.00190256, 0.00190256, 0.00966204, 0.00966204',\n",
       " 'elapsed time for k point: 0.024197101593017578',\n",
       " 'solve_kpoint (0.845161,0,0):',\n",
       " 'Solving for bands 1 to 4...',\n",
       " '    linmin: converged after 1 iterations.',\n",
       " '    iteration    1: trace = 0.0001974731528909641 (1.68954e-06% change)',\n",
       " 'Finished solving for bands 1 to 4 after 1 iterations.',\n",
       " 'freqs:, 16, 0.845161, 0, 0, 0.014086, 0.00179065, 0.00179065, 0.00977395, 0.00977395',\n",
       " 'elapsed time for k point: 0.024070024490356445',\n",
       " 'solve_kpoint (0.854839,0,0):',\n",
       " 'Solving for bands 1 to 4...',\n",
       " '    linmin: converged after 1 iterations.',\n",
       " '    iteration    1: trace = 0.0002010970318265958 (1.93529e-06% change)',\n",
       " 'Finished solving for bands 1 to 4 after 1 iterations.',\n",
       " 'freqs:, 17, 0.854839, 0, 0, 0.0142473, 0.00167873, 0.00167873, 0.00988587, 0.00988587',\n",
       " 'elapsed time for k point: 0.024313688278198242',\n",
       " 'solve_kpoint (0.864516,0,0):',\n",
       " 'Solving for bands 1 to 4...',\n",
       " '    linmin: converged after 1 iterations.',\n",
       " '    iteration    1: trace = 0.0002048211041531419 (2.24916e-06% change)',\n",
       " 'Finished solving for bands 1 to 4 after 1 iterations.',\n",
       " 'freqs:, 18, 0.864516, 0, 0, 0.0144086, 0.00156682, 0.00156682, 0.00999778, 0.00999778',\n",
       " 'elapsed time for k point: 0.0240938663482666',\n",
       " 'solve_kpoint (0.874194,0,0):',\n",
       " 'Solving for bands 1 to 4...',\n",
       " '    linmin: converged after 1 iterations.',\n",
       " '    iteration    1: trace = 0.0002086453681847887 (2.65694e-06% change)',\n",
       " 'Finished solving for bands 1 to 4 after 1 iterations.',\n",
       " 'freqs:, 19, 0.874194, 0, 0, 0.0145699, 0.0014549, 0.0014549, 0.0101097, 0.0101097',\n",
       " 'elapsed time for k point: 0.024219512939453125',\n",
       " 'solve_kpoint (0.883871,0,0):',\n",
       " 'Solving for bands 1 to 4...',\n",
       " '    linmin: converged after 1 iterations.',\n",
       " '    iteration    1: trace = 0.0002125698216756833 (3.1973e-06% change)',\n",
       " 'Finished solving for bands 1 to 4 after 1 iterations.',\n",
       " 'freqs:, 20, 0.883871, 0, 0, 0.0147312, 0.00134299, 0.00134299, 0.0102216, 0.0102216',\n",
       " 'elapsed time for k point: 0.024381637573242188',\n",
       " 'solve_kpoint (0.893548,0,0):',\n",
       " 'Solving for bands 1 to 4...',\n",
       " '    linmin: converged after 1 iterations.',\n",
       " '    iteration    1: trace = 0.0002165944615656092 (3.93003e-06% change)',\n",
       " 'Finished solving for bands 1 to 4 after 1 iterations.',\n",
       " 'freqs:, 21, 0.893548, 0, 0, 0.0148925, 0.00123107, 0.00123107, 0.0103335, 0.0103335',\n",
       " 'elapsed time for k point: 0.038144588470458984',\n",
       " 'solve_kpoint (0.903226,0,0):',\n",
       " 'Solving for bands 1 to 4...',\n",
       " '    linmin: converged after 1 iterations.',\n",
       " '    iteration    1: trace = 0.000220719283573096 (4.95106e-06% change)',\n",
       " 'Finished solving for bands 1 to 4 after 1 iterations.',\n",
       " 'freqs:, 22, 0.903226, 0, 0, 0.0150538, 0.00111916, 0.00111916, 0.0104454, 0.0104454',\n",
       " 'elapsed time for k point: 0.024556636810302734',\n",
       " 'solve_kpoint (0.912903,0,0):',\n",
       " 'Solving for bands 1 to 4...',\n",
       " '    linmin: converged after 1 iterations.',\n",
       " '    iteration    1: trace = 0.0002249442815173092 (6.42087e-06% change)',\n",
       " 'Finished solving for bands 1 to 4 after 1 iterations.',\n",
       " 'freqs:, 23, 0.912903, 0, 0, 0.0152151, 0.00100724, 0.00100724, 0.0105573, 0.0105573',\n",
       " 'elapsed time for k point: 0.02444767951965332',\n",
       " 'solve_kpoint (0.922581,0,0):',\n",
       " 'Solving for bands 1 to 4...',\n",
       " '    linmin: converged after 1 iterations.',\n",
       " '    iteration    1: trace = 0.0002292694461314275 (8.62209e-06% change)',\n",
       " 'Finished solving for bands 1 to 4 after 1 iterations.',\n",
       " 'freqs:, 24, 0.922581, 0, 0, 0.0153763, 0.000895324, 0.000895324, 0.0106693, 0.0106693',\n",
       " 'elapsed time for k point: 0.02418994903564453',\n",
       " 'solve_kpoint (0.932258,0,0):',\n",
       " 'Solving for bands 1 to 4...',\n",
       " '    linmin: converged after 1 iterations.',\n",
       " '    iteration    1: trace = 0.0002336947628590737 (1.20844e-05% change)',\n",
       " '    linmin: converged after 2 iterations.',\n",
       " '    iteration    2: trace = 0.0002336947625187522 (1.45627e-07% change)',\n",
       " 'Finished solving for bands 1 to 4 after 2 iterations.',\n",
       " 'freqs:, 25, 0.932258, 0, 0, 0.0155376, 0.000783409, 0.000783409, 0.0107812, 0.0107812',\n",
       " 'elapsed time for k point: 0.038031816482543945',\n",
       " 'solve_kpoint (0.941935,0,0):',\n",
       " 'Solving for bands 1 to 4...',\n",
       " '    linmin: converged after 2 iterations.',\n",
       " '    iteration    1: trace = 0.0002382202125619645 (1.5525e-05% change)',\n",
       " '    linmin: converged after 2 iterations.',\n",
       " '    iteration    2: trace = 0.0002382202071195085 (2.28463e-06% change)',\n",
       " 'Finished solving for bands 1 to 4 after 2 iterations.',\n",
       " 'freqs:, 26, 0.941935, 0, 0, 0.0156989, 0.000671493, 0.000671493, 0.0108931, 0.0108931',\n",
       " 'elapsed time for k point: 0.03812575340270996',\n",
       " 'solve_kpoint (0.951613,0,0):',\n",
       " 'Solving for bands 1 to 4...',\n",
       " '    linmin: converged after 2 iterations.',\n",
       " '    iteration    1: trace = 0.0002428457445912587 (2.48089e-05% change)',\n",
       " '    linmin: converged after 2 iterations.',\n",
       " '    iteration    2: trace = 0.0002428457358763712 (3.58865e-06% change)',\n",
       " 'Finished solving for bands 1 to 4 after 2 iterations.',\n",
       " 'freqs:, 27, 0.951613, 0, 0, 0.0158602, 0.000559578, 0.000559578, 0.011005, 0.011005',\n",
       " 'elapsed time for k point: 0.03796863555908203',\n",
       " 'solve_kpoint (0.96129,0,0):',\n",
       " 'Solving for bands 1 to 4...',\n",
       " '    linmin: converged after 2 iterations.',\n",
       " '    iteration    1: trace = 0.000247571275192248 (4.42852e-05% change)',\n",
       " '    linmin: converged after 2 iterations.',\n",
       " '    iteration    2: trace = 0.0002475712616348656 (5.47615e-06% change)',\n",
       " 'Finished solving for bands 1 to 4 after 2 iterations.',\n",
       " 'freqs:, 28, 0.96129, 0, 0, 0.0160215, 0.000447662, 0.000447662, 0.0111169, 0.0111169',\n",
       " 'elapsed time for k point: 0.03821086883544922',\n",
       " 'solve_kpoint (0.970968,0,0):',\n",
       " 'Solving for bands 1 to 4...',\n",
       " '    linmin: converged after 2 iterations.',\n",
       " '    iteration    1: trace = 0.0002523966073964699 (9.07664e-05% change)',\n",
       " '    linmin: converged after 2 iterations.',\n",
       " '    iteration    2: trace = 0.0002523965807822533 (1.05446e-05% change)',\n",
       " '    linmin: converged after 1 iterations.',\n",
       " '    iteration    3: trace = 0.00025239658068018 (4.04417e-08% change)',\n",
       " 'Finished solving for bands 1 to 4 after 3 iterations.',\n",
       " 'freqs:, 29, 0.970968, 0, 0, 0.0161828, 0.000335747, 0.000335747, 0.0112288, 0.0112288',\n",
       " 'elapsed time for k point: 0.052227020263671875',\n",
       " 'solve_kpoint (0.980645,0,0):',\n",
       " 'Solving for bands 1 to 4...',\n",
       " '    linmin: converged after 2 iterations.',\n",
       " '    iteration    1: trace = 0.0002573211501317942 (0.000237974% change)',\n",
       " '    linmin: converged after 2 iterations.',\n",
       " '    iteration    2: trace = 0.0002573210838319647 (2.57654e-05% change)',\n",
       " '    linmin: converged after 2 iterations.',\n",
       " '    iteration    3: trace = 0.0002573210829652835 (3.36809e-07% change)',\n",
       " 'Finished solving for bands 1 to 4 after 3 iterations.',\n",
       " 'freqs:, 30, 0.980645, 0, 0, 0.0163441, 0.000223831, 0.000223831, 0.0113407, 0.0113407',\n",
       " 'elapsed time for k point: 0.05200958251953125',\n",
       " 'solve_kpoint (0.990323,0,0):',\n",
       " 'Solving for bands 1 to 4...',\n",
       " '    linmin: converged after 2 iterations.',\n",
       " '    iteration    1: trace = 0.0002623420096322077 (0.00105242% change)',\n",
       " '    linmin: converged after 3 iterations.',\n",
       " '    iteration    2: trace = 0.0002623417275569068 (0.000107522% change)',\n",
       " '    linmin: converged after 2 iterations.',\n",
       " '    iteration    3: trace = 0.0002623417237822684 (1.43883e-06% change)',\n",
       " 'Finished solving for bands 1 to 4 after 3 iterations.',\n",
       " 'freqs:, 31, 0.990323, 0, 0, 0.0165054, 0.000111916, 0.000111916, 0.0114524, 0.0114524',\n",
       " 'elapsed time for k point: 0.05213427543640137',\n",
       " 'solve_kpoint (1,0,0):',\n",
       " 'Solving for bands 1 to 4...',\n",
       " '    linmin: converged after 7 iterations.',\n",
       " '    iteration    1: trace = 0.0002672397583218858 (0.0810645% change)',\n",
       " '    linmin: converged after 4 iterations.',\n",
       " '    iteration    2: trace = 0.0002671276795957152 (0.0419482% change)',\n",
       " '    linmin: converged after 3 iterations.',\n",
       " '    iteration    3: trace = 0.0002671253466591506 (0.000873345% change)',\n",
       " '    linmin: converged after 2 iterations.',\n",
       " '    iteration    4: trace = 0.0002671253131029042 (1.2562e-05% change)',\n",
       " '    linmin: converged after 2 iterations.',\n",
       " '    iteration    5: trace = 0.0002671253114170252 (6.31119e-07% change)',\n",
       " 'Finished solving for bands 1 to 4 after 5 iterations.',\n",
       " 'freqs:, 32, 1, 0, 0, 0.0166667, 3.53324e-07, 3.53325e-07, 0.0115569, 0.0115569',\n",
       " 'elapsed time for k point: 0.08037948608398438',\n",
       " 'Band 1 range: 3.533240881623245e-07 at Vector3<1.0, 0.0, 0.0> to 0.0034693799329025233 at Vector3<0.7, 0.0, 0.0>',\n",
       " 'Band 2 range: 3.5332526545261246e-07 at Vector3<1.0, 0.0, 0.0> to 0.003469379945731557 at Vector3<0.7, 0.0, 0.0>',\n",
       " 'Band 3 range: 0.008095228941745209 at Vector3<0.7, 0.0, 0.0> to 0.011556931031666584 at Vector3<1.0, 0.0, 0.0>',\n",
       " 'Band 4 range: 0.008095228969215728 at Vector3<0.7, 0.0, 0.0> to 0.011556931093359108 at Vector3<1.0, 0.0, 0.0>',\n",
       " 'Gap from band 2 (0.003469379945731557) to band 3 (0.008095228941745209), 80.00009409782896%',\n",
       " 'total elapsed time for run: 1.182499647140503',\n",
       " 'done',\n",
       " '']"
      ]
     },
     "execution_count": 11,
     "metadata": {},
     "output_type": "execute_result"
    }
   ],
   "source": [
    "output_text = output.stdout\n",
    "output_text.split('\\n')"
   ]
  },
  {
   "cell_type": "code",
   "execution_count": 12,
   "metadata": {},
   "outputs": [
    {
     "name": "stdout",
     "output_type": "stream",
     "text": [
      "freqs:, k index, k1, k2, k3, kmag/2pi, band 1, band 2, band 3, band 4\n",
      "['freqs:', 'k index', 'k1', 'k2', 'k3', 'kmag/2pi', 'band 1', 'band 2', 'band 3', 'band 4']\n",
      "freqs:, 1, 0.7, 0, 0, 0.0116667, 0.00346938, 0.00346938, 0.00809523, 0.00809523\n",
      "['freqs:', '1', '0.7', '0', '0', '0.0116667', '0.00346938', '0.00346938', '0.00809523', '0.00809523']\n",
      "freqs:, 2, 0.709677, 0, 0, 0.011828, 0.00335746, 0.00335746, 0.00820714, 0.00820714\n",
      "['freqs:', '2', '0.709677', '0', '0', '0.011828', '0.00335746', '0.00335746', '0.00820714', '0.00820714']\n",
      "freqs:, 3, 0.719355, 0, 0, 0.0119892, 0.00324555, 0.00324555, 0.00831906, 0.00831906\n",
      "['freqs:', '3', '0.719355', '0', '0', '0.0119892', '0.00324555', '0.00324555', '0.00831906', '0.00831906']\n",
      "freqs:, 4, 0.729032, 0, 0, 0.0121505, 0.00313363, 0.00313363, 0.00843097, 0.00843097\n",
      "['freqs:', '4', '0.729032', '0', '0', '0.0121505', '0.00313363', '0.00313363', '0.00843097', '0.00843097']\n",
      "freqs:, 5, 0.73871, 0, 0, 0.0123118, 0.00302172, 0.00302172, 0.00854289, 0.00854289\n",
      "['freqs:', '5', '0.73871', '0', '0', '0.0123118', '0.00302172', '0.00302172', '0.00854289', '0.00854289']\n",
      "freqs:, 6, 0.748387, 0, 0, 0.0124731, 0.0029098, 0.0029098, 0.0086548, 0.0086548\n",
      "['freqs:', '6', '0.748387', '0', '0', '0.0124731', '0.0029098', '0.0029098', '0.0086548', '0.0086548']\n",
      "freqs:, 7, 0.758065, 0, 0, 0.0126344, 0.00279789, 0.00279789, 0.00876672, 0.00876672\n",
      "['freqs:', '7', '0.758065', '0', '0', '0.0126344', '0.00279789', '0.00279789', '0.00876672', '0.00876672']\n",
      "freqs:, 8, 0.767742, 0, 0, 0.0127957, 0.00268597, 0.00268597, 0.00887863, 0.00887863\n",
      "['freqs:', '8', '0.767742', '0', '0', '0.0127957', '0.00268597', '0.00268597', '0.00887863', '0.00887863']\n",
      "freqs:, 9, 0.777419, 0, 0, 0.012957, 0.00257406, 0.00257406, 0.00899055, 0.00899055\n",
      "['freqs:', '9', '0.777419', '0', '0', '0.012957', '0.00257406', '0.00257406', '0.00899055', '0.00899055']\n",
      "freqs:, 10, 0.787097, 0, 0, 0.0131183, 0.00246214, 0.00246214, 0.00910246, 0.00910246\n",
      "['freqs:', '10', '0.787097', '0', '0', '0.0131183', '0.00246214', '0.00246214', '0.00910246', '0.00910246']\n",
      "freqs:, 11, 0.796774, 0, 0, 0.0132796, 0.00235023, 0.00235023, 0.00921438, 0.00921438\n",
      "['freqs:', '11', '0.796774', '0', '0', '0.0132796', '0.00235023', '0.00235023', '0.00921438', '0.00921438']\n",
      "freqs:, 12, 0.806452, 0, 0, 0.0134409, 0.00223831, 0.00223831, 0.00932629, 0.00932629\n",
      "['freqs:', '12', '0.806452', '0', '0', '0.0134409', '0.00223831', '0.00223831', '0.00932629', '0.00932629']\n",
      "freqs:, 13, 0.816129, 0, 0, 0.0136022, 0.00212639, 0.00212639, 0.00943821, 0.00943821\n",
      "['freqs:', '13', '0.816129', '0', '0', '0.0136022', '0.00212639', '0.00212639', '0.00943821', '0.00943821']\n",
      "freqs:, 14, 0.825806, 0, 0, 0.0137634, 0.00201448, 0.00201448, 0.00955012, 0.00955012\n",
      "['freqs:', '14', '0.825806', '0', '0', '0.0137634', '0.00201448', '0.00201448', '0.00955012', '0.00955012']\n",
      "freqs:, 15, 0.835484, 0, 0, 0.0139247, 0.00190256, 0.00190256, 0.00966204, 0.00966204\n",
      "['freqs:', '15', '0.835484', '0', '0', '0.0139247', '0.00190256', '0.00190256', '0.00966204', '0.00966204']\n",
      "freqs:, 16, 0.845161, 0, 0, 0.014086, 0.00179065, 0.00179065, 0.00977395, 0.00977395\n",
      "['freqs:', '16', '0.845161', '0', '0', '0.014086', '0.00179065', '0.00179065', '0.00977395', '0.00977395']\n",
      "freqs:, 17, 0.854839, 0, 0, 0.0142473, 0.00167873, 0.00167873, 0.00988587, 0.00988587\n",
      "['freqs:', '17', '0.854839', '0', '0', '0.0142473', '0.00167873', '0.00167873', '0.00988587', '0.00988587']\n",
      "freqs:, 18, 0.864516, 0, 0, 0.0144086, 0.00156682, 0.00156682, 0.00999778, 0.00999778\n",
      "['freqs:', '18', '0.864516', '0', '0', '0.0144086', '0.00156682', '0.00156682', '0.00999778', '0.00999778']\n",
      "freqs:, 19, 0.874194, 0, 0, 0.0145699, 0.0014549, 0.0014549, 0.0101097, 0.0101097\n",
      "['freqs:', '19', '0.874194', '0', '0', '0.0145699', '0.0014549', '0.0014549', '0.0101097', '0.0101097']\n",
      "freqs:, 20, 0.883871, 0, 0, 0.0147312, 0.00134299, 0.00134299, 0.0102216, 0.0102216\n",
      "['freqs:', '20', '0.883871', '0', '0', '0.0147312', '0.00134299', '0.00134299', '0.0102216', '0.0102216']\n",
      "freqs:, 21, 0.893548, 0, 0, 0.0148925, 0.00123107, 0.00123107, 0.0103335, 0.0103335\n",
      "['freqs:', '21', '0.893548', '0', '0', '0.0148925', '0.00123107', '0.00123107', '0.0103335', '0.0103335']\n",
      "freqs:, 22, 0.903226, 0, 0, 0.0150538, 0.00111916, 0.00111916, 0.0104454, 0.0104454\n",
      "['freqs:', '22', '0.903226', '0', '0', '0.0150538', '0.00111916', '0.00111916', '0.0104454', '0.0104454']\n",
      "freqs:, 23, 0.912903, 0, 0, 0.0152151, 0.00100724, 0.00100724, 0.0105573, 0.0105573\n",
      "['freqs:', '23', '0.912903', '0', '0', '0.0152151', '0.00100724', '0.00100724', '0.0105573', '0.0105573']\n",
      "freqs:, 24, 0.922581, 0, 0, 0.0153763, 0.000895324, 0.000895324, 0.0106693, 0.0106693\n",
      "['freqs:', '24', '0.922581', '0', '0', '0.0153763', '0.000895324', '0.000895324', '0.0106693', '0.0106693']\n",
      "freqs:, 25, 0.932258, 0, 0, 0.0155376, 0.000783409, 0.000783409, 0.0107812, 0.0107812\n",
      "['freqs:', '25', '0.932258', '0', '0', '0.0155376', '0.000783409', '0.000783409', '0.0107812', '0.0107812']\n",
      "freqs:, 26, 0.941935, 0, 0, 0.0156989, 0.000671493, 0.000671493, 0.0108931, 0.0108931\n",
      "['freqs:', '26', '0.941935', '0', '0', '0.0156989', '0.000671493', '0.000671493', '0.0108931', '0.0108931']\n",
      "freqs:, 27, 0.951613, 0, 0, 0.0158602, 0.000559578, 0.000559578, 0.011005, 0.011005\n",
      "['freqs:', '27', '0.951613', '0', '0', '0.0158602', '0.000559578', '0.000559578', '0.011005', '0.011005']\n",
      "freqs:, 28, 0.96129, 0, 0, 0.0160215, 0.000447662, 0.000447662, 0.0111169, 0.0111169\n",
      "['freqs:', '28', '0.96129', '0', '0', '0.0160215', '0.000447662', '0.000447662', '0.0111169', '0.0111169']\n",
      "freqs:, 29, 0.970968, 0, 0, 0.0161828, 0.000335747, 0.000335747, 0.0112288, 0.0112288\n",
      "['freqs:', '29', '0.970968', '0', '0', '0.0161828', '0.000335747', '0.000335747', '0.0112288', '0.0112288']\n",
      "freqs:, 30, 0.980645, 0, 0, 0.0163441, 0.000223831, 0.000223831, 0.0113407, 0.0113407\n",
      "['freqs:', '30', '0.980645', '0', '0', '0.0163441', '0.000223831', '0.000223831', '0.0113407', '0.0113407']\n",
      "freqs:, 31, 0.990323, 0, 0, 0.0165054, 0.000111916, 0.000111916, 0.0114524, 0.0114524\n",
      "['freqs:', '31', '0.990323', '0', '0', '0.0165054', '0.000111916', '0.000111916', '0.0114524', '0.0114524']\n",
      "freqs:, 32, 1, 0, 0, 0.0166667, 3.53324e-07, 3.53325e-07, 0.0115569, 0.0115569\n",
      "['freqs:', '32', '1', '0', '0', '0.0166667', '3.53324e-07', '3.53325e-07', '0.0115569', '0.0115569']\n"
     ]
    }
   ],
   "source": [
    "freqs = []\n",
    "ks = []\n",
    "line_header = \"freqs:\"\n",
    "for ln in output_text.split('\\n'):\n",
    "    if ln.startswith(line_header):\n",
    "        print(ln)\n",
    "        line = ln.split(', ')\n",
    "        print(line)\n",
    "        ks.append(line[2])\n",
    "        freqs.append(line[6])\n",
    "\n",
    "freqs = np.array(freqs[1:], dtype=np.float32)\n",
    "ks = np.array(ks[1:], dtype=np.float32)"
   ]
  },
  {
   "cell_type": "code",
   "execution_count": 13,
   "metadata": {},
   "outputs": [
    {
     "name": "stderr",
     "output_type": "stream",
     "text": [
      "No artists with labels found to put in legend.  Note that artists whose label start with an underscore are ignored when legend() is called with no argument.\n"
     ]
    },
    {
     "data": {
      "text/plain": [
       "<matplotlib.legend.Legend at 0x7f1fb0450a90>"
      ]
     },
     "execution_count": 13,
     "metadata": {},
     "output_type": "execute_result"
    },
    {
     "data": {
      "image/png": "[encoded data removed]",
      "text/plain": [
       "<Figure size 432x288 with 1 Axes>"
      ]
     },
     "metadata": {
      "needs_background": "light"
     },
     "output_type": "display_data"
    }
   ],
   "source": [
    "fig, ax = plt.subplots()\n",
    "\n",
    "ax.plot(ks, freqs)\n",
    "# ax.plot(ks, ks/clad_index, 'k-', linewidth=3, label='clad')\n",
    "# ax.plot(ks, ks/core_index, '--', color='gray', linewidth=3, label='core')\n",
    "ax.set_xlabel('$k_x$')\n",
    "ax.set_ylabel('$\\omega$')\n",
    "# ax.set_xlim([0,2])\n",
    "# ax.set_ylim([0,1])\n",
    "ax.legend()\n",
    "\n"
   ]
  },
  {
   "cell_type": "code",
   "execution_count": 21,
   "metadata": {},
   "outputs": [
    {
     "name": "stdout",
     "output_type": "stream",
     "text": [
      "Initializing fields to random numbers...\n",
      "Initializing eigensolver data\n",
      "Computing 1 bands with 1e-07 tolerance\n",
      "Working in 1 dimensions.\n",
      "Grid size is 6000 x 1 x 1.\n",
      "Solving for 1 bands at a time.\n",
      "Creating Maxwell data...\n",
      "Mesh size is 3.\n",
      "Lattice vectors:\n",
      "     (60, 0, 0)\n",
      "     (0, 1, 0)\n",
      "     (0, 0, 1)\n",
      "Cell volume = 60\n",
      "Reciprocal lattice vectors (/ 2 pi):\n",
      "     (0.0166667, -0, 0)\n",
      "     (-0, 1, -0)\n",
      "     (0, -0, 1)\n",
      "Geometric objects:\n",
      "     block, center = (0,0,0)\n",
      "          size (10.4,0,0)\n",
      "          axes (1,0,0), (0,1,0), (0,0,1)\n",
      "Geometric object tree has depth 1 and 1 object nodes (vs. 1 actual objects)\n",
      "Initializing epsilon function...\n",
      "Solving for band polarization: .\n",
      "1 k-points\n",
      "  Vector3<0.0, 0.9, 0.0>\n",
      "elapsed time for initialization: 0.014781713485717773\n",
      "solve_kpoint (0,0.9,0):\n",
      "freqs:, k index, k1, k2, k3, kmag/2pi, band 1\n",
      "Solving for bands 1 to 1...\n",
      "    near maximum in trace\n",
      "    linmin: converged after 7 iterations.\n",
      "    iteration    1: trace = 0.7693297638680261 (199.242% change)\n",
      "    linmin: converged after 6 iterations.\n",
      "    iteration    2: trace = 0.458081434135892 (50.7162% change)\n",
      "    linmin: converged after 5 iterations.\n",
      "    iteration    3: trace = 0.417674639836406 (9.22787% change)\n",
      "    linmin: converged after 4 iterations.\n",
      "    iteration    4: trace = 0.4049454558522175 (3.09479% change)\n",
      "    linmin: converged after 4 iterations.\n",
      "    iteration    5: trace = 0.3993817636510971 (1.38344% change)\n",
      "    linmin: converged after 4 iterations.\n",
      "    iteration    6: trace = 0.3964805271286595 (0.72908% change)\n",
      "    linmin: converged after 4 iterations.\n",
      "    iteration    7: trace = 0.3948578406715361 (0.410112% change)\n",
      "    linmin: converged after 3 iterations.\n",
      "    iteration    8: trace = 0.3938610625902585 (0.252759% change)\n",
      "    linmin: converged after 3 iterations.\n",
      "    iteration    9: trace = 0.3931855710088851 (0.171652% change)\n",
      "    linmin: converged after 3 iterations.\n",
      "    iteration   10: trace = 0.3926416220377778 (0.13844% change)\n",
      "    linmin: converged after 3 iterations.\n",
      "    iteration   11: trace = 0.3921750367928392 (0.118903% change)\n",
      "    linmin: converged after 3 iterations.\n",
      "    iteration   12: trace = 0.3917802714236657 (0.100711% change)\n",
      "    linmin: converged after 4 iterations.\n",
      "    iteration   13: trace = 0.3914423696770934 (0.086285% change)\n",
      "    linmin: converged after 4 iterations.\n",
      "    iteration   14: trace = 0.3911315962176365 (0.0794234% change)\n",
      "    linmin: converged after 4 iterations.\n",
      "    iteration   15: trace = 0.3908415721661491 (0.0741775% change)\n",
      "    linmin: converged after 4 iterations.\n",
      "    iteration   16: trace = 0.390578907391023 (0.0672275% change)\n",
      "    linmin: converged after 4 iterations.\n",
      "    iteration   17: trace = 0.390345904773131 (0.0596735% change)\n",
      "    linmin: converged after 4 iterations.\n",
      "    iteration   18: trace = 0.3900899791708418 (0.0655853% change)\n",
      "    linmin: converged after 4 iterations.\n",
      "    iteration   19: trace = 0.389826329918484 (0.0676096% change)\n",
      "    linmin: converged after 5 iterations.\n",
      "    iteration   20: trace = 0.389565462800743 (0.0669412% change)\n",
      "    linmin: converged after 5 iterations.\n",
      "    iteration   21: trace = 0.3893143028104955 (0.0644926% change)\n",
      "    linmin: converged after 5 iterations.\n",
      "    iteration   22: trace = 0.3890816354999121 (0.0597812% change)\n",
      "    linmin: converged after 5 iterations.\n",
      "    iteration   23: trace = 0.3888616547732807 (0.0565544% change)\n",
      "    linmin: converged after 5 iterations.\n",
      "    iteration   24: trace = 0.3886594403653678 (0.0520152% change)\n",
      "    linmin: converged after 5 iterations.\n",
      "    iteration   25: trace = 0.3884809123405358 (0.0459449% change)\n",
      "    linmin: converged after 5 iterations.\n",
      "    iteration   26: trace = 0.3883270947452749 (0.0396025% change)\n",
      "    linmin: converged after 4 iterations.\n",
      "    iteration   27: trace = 0.3881939004131345 (0.0343054% change)\n",
      "    linmin: converged after 4 iterations.\n",
      "    iteration   28: trace = 0.3880857643564743 (0.0278601% change)\n",
      "    linmin: converged after 4 iterations.\n",
      "    iteration   29: trace = 0.387995386562806 (0.0232908% change)\n",
      "    linmin: converged after 4 iterations.\n",
      "    iteration   30: trace = 0.3879191559855711 (0.0196492% change)\n",
      "    linmin: converged after 4 iterations.\n",
      "    iteration   31: trace = 0.3878590211580796 (0.0155031% change)\n",
      "    linmin: converged after 3 iterations.\n",
      "    iteration   32: trace = 0.3878104236287224 (0.0125305% change)\n",
      "    linmin: converged after 3 iterations.\n",
      "    iteration   33: trace = 0.3877680828173672 (0.0109185% change)\n",
      "    linmin: converged after 3 iterations.\n",
      "    iteration   34: trace = 0.3877319077915913 (0.00932947% change)\n",
      "    linmin: converged after 3 iterations.\n",
      "    iteration   35: trace = 0.3877032030343148 (0.00740352% change)\n",
      "    linmin: converged after 3 iterations.\n",
      "    iteration   36: trace = 0.3876806400692284 (0.00581982% change)\n",
      "    linmin: converged after 3 iterations.\n",
      "    iteration   37: trace = 0.3876616331362375 (0.00490285% change)\n",
      "    linmin: converged after 3 iterations.\n",
      "    iteration   38: trace = 0.3876454022568367 (0.00418696% change)\n",
      "    linmin: converged after 3 iterations.\n",
      "    iteration   39: trace = 0.3876321745584104 (0.00341238% change)\n",
      "    linmin: converged after 3 iterations.\n",
      "    iteration   40: trace = 0.3876207343625755 (0.00295135% change)\n",
      "    linmin: converged after 3 iterations.\n",
      "    iteration   41: trace = 0.3876102773587468 (0.00269778% change)\n",
      "    linmin: converged after 3 iterations.\n",
      "    iteration   42: trace = 0.3876011989272538 (0.00234218% change)\n",
      "    linmin: converged after 3 iterations.\n",
      "    iteration   43: trace = 0.3875939059888537 (0.00188157% change)\n",
      "    linmin: converged after 3 iterations.\n",
      "    iteration   44: trace = 0.3875879420705669 (0.00153871% change)\n",
      "    linmin: converged after 3 iterations.\n",
      "    iteration   45: trace = 0.3875826618659799 (0.00136233% change)\n",
      "    linmin: converged after 3 iterations.\n",
      "    iteration   46: trace = 0.3875781115793456 (0.00117402% change)\n",
      "    linmin: converged after 3 iterations.\n",
      "    iteration   47: trace = 0.3875747111176833 (0.000877365% change)\n",
      "    linmin: converged after 3 iterations.\n",
      "    iteration   48: trace = 0.3875723256320975 (0.000615492% change)\n",
      "    linmin: converged after 2 iterations.\n",
      "    iteration   49: trace = 0.387570529476386 (0.000463439% change)\n",
      "    linmin: converged after 2 iterations.\n",
      "    iteration   50: trace = 0.3875691755700441 (0.000349332% change)\n",
      "    linmin: converged after 2 iterations.\n",
      "    iteration   51: trace = 0.3875682289231945 (0.000244253% change)\n",
      "    linmin: converged after 2 iterations.\n",
      "    iteration   52: trace = 0.3875675723532394 (0.000169408% change)\n",
      "    linmin: converged after 2 iterations.\n",
      "    iteration   53: trace = 0.387567067443965 (0.000130277% change)\n",
      "    linmin: converged after 2 iterations.\n",
      "    iteration   54: trace = 0.3875666568507405 (0.000105941% change)\n",
      "    linmin: converged after 2 iterations.\n",
      "    iteration   55: trace = 0.387566353124482 (7.83675e-05% change)\n",
      "    linmin: converged after 2 iterations.\n",
      "    iteration   56: trace = 0.3875661431722642 (5.4172e-05% change)\n",
      "    linmin: converged after 2 iterations.\n",
      "    iteration   57: trace = 0.3875659896588539 (3.96096e-05% change)\n",
      "    linmin: converged after 2 iterations.\n",
      "    iteration   58: trace = 0.3875658678478794 (3.14297e-05% change)\n",
      "    linmin: converged after 2 iterations.\n",
      "    iteration   59: trace = 0.3875657729182324 (2.44938e-05% change)\n",
      "    linmin: converged after 2 iterations.\n",
      "    iteration   60: trace = 0.3875657056316447 (1.73613e-05% change)\n",
      "    linmin: converged after 2 iterations.\n",
      "    iteration   61: trace = 0.3875656585437511 (1.21497e-05% change)\n",
      "    linmin: converged after 2 iterations.\n",
      "    iteration   62: trace = 0.3875656238538673 (8.95071e-06% change)\n",
      "Finished solving for bands 1 to 1 after 62 iterations.\n",
      "freqs:, 1, 0, 0.9, 0, 0.9, 0.622548\n",
      "elapsed time for k point: 0.456345796585083\n",
      "total elapsed time for run: 0.47153425216674805\n",
      "done\n",
      "find-k 1 at 0.9: -0.022613602306741143\n",
      "Initializing eigensolver data\n",
      "Computing 1 bands with 1e-07 tolerance\n",
      "Working in 1 dimensions.\n",
      "Grid size is 6000 x 1 x 1.\n",
      "Solving for 1 bands at a time.\n",
      "Creating Maxwell data...\n",
      "Mesh size is 3.\n",
      "Lattice vectors:\n",
      "     (60, 0, 0)\n",
      "     (0, 1, 0)\n",
      "     (0, 0, 1)\n",
      "Cell volume = 60\n",
      "Reciprocal lattice vectors (/ 2 pi):\n",
      "     (0.0166667, -0, 0)\n",
      "     (-0, 1, -0)\n",
      "     (0, -0, 1)\n",
      "Geometric objects:\n",
      "     block, center = (0,0,0)\n",
      "          size (10.4,0,0)\n",
      "          axes (1,0,0), (0,1,0), (0,0,1)\n",
      "Geometric object tree has depth 1 and 1 object nodes (vs. 1 actual objects)\n",
      "Initializing epsilon function...\n",
      "Solving for band polarization: .\n",
      "1 k-points\n",
      "  Vector3<0.0, 0.932728442063082, 0.0>\n",
      "elapsed time for initialization: 0.020292043685913086\n",
      "solve_kpoint (0,0.932728,0):\n",
      "freqs:, k index, k1, k2, k3, kmag/2pi, band 1\n",
      "Solving for bands 1 to 1...\n",
      "    linmin: converged after 2 iterations.\n",
      "    iteration    1: trace = 0.4162336328209945 (7.1915e-06% change)\n",
      "Finished solving for bands 1 to 1 after 1 iterations.\n",
      "freqs:, 1, 0, 0.932728, 0, 0.932728, 0.645162\n",
      "elapsed time for k point: 0.058116912841796875\n",
      "total elapsed time for run: 0.07891368865966797\n",
      "done\n",
      "find-k 1 at 0.932728442063082: 4.2027484337126e-07\n",
      "kvals:, 0.6451612903225806, 1, 1, 0.0, 0.0, 0.0, 0.0, 1.0, 0.0, 0.9327278338263149\n"
     ]
    }
   ],
   "source": [
    "f_mode = 1/1.55   # frequency corresponding to 1.55 um                                                                                                             \n",
    "band_min = 1\n",
    "band_max = 1 # Look at the two lowest modes\n",
    "kdir = mp.Vector3(0,1)\n",
    "tol = 1e-5\n",
    "kmag_guess = 0.9\n",
    "kmag_min = 0.6\n",
    "kmag_max = 1\n",
    "\n",
    "ms.find_k(mp.NO_PARITY, f_mode, band_min, band_max, kdir, tol, kmag_guess,\n",
    "          kmag_min, kmag_max)\n",
    "\n",
    "E = ms.get_efield(1)\n"
   ]
  },
  {
   "cell_type": "code",
   "execution_count": 24,
   "metadata": {},
   "outputs": [
    {
     "data": {
      "text/plain": [
       "(6000, 1, 1, 3)"
      ]
     },
     "execution_count": 24,
     "metadata": {},
     "output_type": "execute_result"
    }
   ],
   "source": [
    "np.shape(E)"
   ]
  },
  {
   "cell_type": "code",
   "execution_count": 42,
   "metadata": {},
   "outputs": [],
   "source": [
    "H = ms.get_hfield(1)"
   ]
  },
  {
   "cell_type": "code",
   "execution_count": 41,
   "metadata": {},
   "outputs": [
    {
     "name": "stderr",
     "output_type": "stream",
     "text": [
      "/home/simbil/miniconda3/envs/pmp_mayavi/lib/python3.7/site-packages/matplotlib/cbook/__init__.py:1298: ComplexWarning: Casting complex values to real discards the imaginary part\n",
      "  return np.asarray(x, float)\n",
      "/home/simbil/miniconda3/envs/pmp_mayavi/lib/python3.7/site-packages/matplotlib/cbook/__init__.py:1298: ComplexWarning: Casting complex values to real discards the imaginary part\n",
      "  return np.asarray(x, float)\n",
      "/home/simbil/miniconda3/envs/pmp_mayavi/lib/python3.7/site-packages/matplotlib/cbook/__init__.py:1298: ComplexWarning: Casting complex values to real discards the imaginary part\n",
      "  return np.asarray(x, float)\n"
     ]
    },
    {
     "data": {
      "image/png": "[encoded data removed]",
      "text/plain": [
       "<Figure size 720x288 with 3 Axes>"
      ]
     },
     "metadata": {
      "needs_background": "light"
     },
     "output_type": "display_data"
    }
   ],
   "source": [
    "plt.figure(figsize=[10,4])\n",
    "\n",
    "plt.subplot(1, 3, 1)\n",
    "plt.plot(x, E[:,0,0,0])\n",
    "plt.xlabel('x (um)')\n",
    "plt.ylabel('Ex')\n",
    "\n",
    "plt.subplot(1, 3, 2)\n",
    "plt.plot(x, E[:,0,0,1])\n",
    "plt.xlabel('x (um)')\n",
    "plt.ylabel('Ey')\n",
    "\n",
    "plt.subplot(1, 3, 3)\n",
    "plt.plot(x, E[:,0,0,2])\n",
    "plt.xlabel('x (um)')\n",
    "plt.ylabel('Ez')\n",
    "\n",
    "plt.tight_layout()"
   ]
  },
  {
   "cell_type": "code",
   "execution_count": 57,
   "metadata": {},
   "outputs": [
    {
     "name": "stderr",
     "output_type": "stream",
     "text": [
      "/home/simbil/miniconda3/envs/pmp_mayavi/lib/python3.7/site-packages/matplotlib/cbook/__init__.py:1298: ComplexWarning: Casting complex values to real discards the imaginary part\n",
      "  return np.asarray(x, float)\n"
     ]
    },
    {
     "data": {
      "text/plain": [
       "Text(-10, 0.02, '')"
      ]
     },
     "execution_count": 57,
     "metadata": {},
     "output_type": "execute_result"
    },
    {
     "data": {
      "image/png": "[encoded data removed]",
      "text/plain": [
       "<Figure size 432x288 with 2 Axes>"
      ]
     },
     "metadata": {
      "needs_background": "light"
     },
     "output_type": "display_data"
    }
   ],
   "source": [
    "fig, ax1 = plt.subplots()\n",
    "\n",
    "ax1.plot(x, E[:,0,0,2], linewidth=2)\n",
    "ax1.set_xlabel('x (um)')\n",
    "ax1.set_ylabel('Ez')\n",
    "\n",
    "ax2 = ax1.twinx()\n",
    "ax2.plot(x, eps, \"k--\")\n",
    "ax2.set_ylabel('Eps')\n",
    "\n",
    "ax1.annotate(\"\", xy=(20, 0.02), xytext=(10, 0.02),\n",
    "\n",
    "            arrowprops=dict(arrowstyle=\"->\"))\n",
    "\n",
    "ax1.annotate(\"\", xy=(-20, 0.02), xytext=(-10, 0.02),\n",
    "\n",
    "            arrowprops=dict(arrowstyle=\"->\", color='tab:blue'))"
   ]
  },
  {
   "cell_type": "code",
   "execution_count": 43,
   "metadata": {},
   "outputs": [
    {
     "name": "stderr",
     "output_type": "stream",
     "text": [
      "/home/simbil/miniconda3/envs/pmp_mayavi/lib/python3.7/site-packages/matplotlib/cbook/__init__.py:1298: ComplexWarning: Casting complex values to real discards the imaginary part\n",
      "  return np.asarray(x, float)\n",
      "/home/simbil/miniconda3/envs/pmp_mayavi/lib/python3.7/site-packages/matplotlib/cbook/__init__.py:1298: ComplexWarning: Casting complex values to real discards the imaginary part\n",
      "  return np.asarray(x, float)\n",
      "/home/simbil/miniconda3/envs/pmp_mayavi/lib/python3.7/site-packages/matplotlib/cbook/__init__.py:1298: ComplexWarning: Casting complex values to real discards the imaginary part\n",
      "  return np.asarray(x, float)\n"
     ]
    },
    {
     "data": {
      "image/png": "[encoded data removed]",
      "text/plain": [
       "<Figure size 720x288 with 3 Axes>"
      ]
     },
     "metadata": {
      "needs_background": "light"
     },
     "output_type": "display_data"
    }
   ],
   "source": [
    "plt.figure(figsize=[10,4])\n",
    "\n",
    "plt.subplot(1, 3, 1)\n",
    "plt.plot(x, H[:,0,0,0])\n",
    "plt.xlabel('x (um)')\n",
    "plt.ylabel('Hx')\n",
    "\n",
    "plt.subplot(1, 3, 2)\n",
    "plt.plot(x, H[:,0,0,1])\n",
    "plt.xlabel('x (um)')\n",
    "plt.ylabel('Hy')\n",
    "\n",
    "plt.subplot(1, 3, 3)\n",
    "plt.plot(x, H[:,0,0,2])\n",
    "plt.xlabel('x (um)')\n",
    "plt.ylabel('Hz')\n",
    "\n",
    "plt.tight_layout()"
   ]
  },
  {
   "cell_type": "code",
   "execution_count": null,
   "metadata": {},
   "outputs": [],
   "source": []
  }
 ],
 "metadata": {
  "interpreter": {
   "hash": "776bc4ff5dc02de019fb73bc749fff902678567bf79e77e4952ca586d4b6f19a"
  },
  "kernelspec": {
   "display_name": "Python 3.7.11 64-bit ('pmp_mayavi': conda)",
   "language": "python",
   "name": "python3"
  },
  "language_info": {
   "codemirror_mode": {
    "name": "ipython",
    "version": 3
   },
   "file_extension": ".py",
   "mimetype": "text/x-python",
   "name": "python",
   "nbconvert_exporter": "python",
   "pygments_lexer": "ipython3",
   "version": "3.7.11"
  },
  "orig_nbformat": 4
 },
 "nbformat": 4,
 "nbformat_minor": 2
}
